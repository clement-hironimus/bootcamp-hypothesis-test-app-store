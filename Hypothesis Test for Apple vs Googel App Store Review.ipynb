{
 "nbformat": 4,
 "nbformat_minor": 0,
 "metadata": {
  "kernelspec": {
   "display_name": "Python 3",
   "language": "python",
   "name": "python3"
  },
  "language_info": {
   "codemirror_mode": {
    "name": "ipython",
    "version": 3
   },
   "file_extension": ".py",
   "mimetype": "text/x-python",
   "name": "python",
   "nbconvert_exporter": "python",
   "pygments_lexer": "ipython3",
   "version": "3.7.3"
  },
  "colab": {
   "name": "Springboard Apps project - Tier 3 - Complete.ipynb",
   "provenance": [],
   "collapsed_sections": [
    "5fbRq2MZFcvq",
    "4RTofY9wFcwI",
    "Cu_eh7fTFcwJ"
   ]
  }
 },
 "cells": [
  {
   "cell_type": "markdown",
   "metadata": {
    "id": "i2RUFW7TFcuh",
    "colab_type": "text"
   },
   "source": [
    "# Springboard Apps project - Tier 3 - Complete\n",
    "\n",
    "Welcome to the Apps project! To give you a taste of your future career, we're going to walk through exactly the kind of notebook that you'd write as a data scientist. In the process, we'll be sure to signpost the general framework for our investigation - the Data Science Pipeline - as well as give reasons for why we're doing what we're doing. We're also going to apply some of the skills and knowledge you've built up in the previous unit when reading Professor Spiegelhalter's *The Art of Statistics* (hereinafter *AoS*). \n",
    "\n",
    "So let's get cracking!\n",
    "\n",
    "**Brief**\n",
    "\n",
    "Did Apple Store apps receive better reviews than Google Play apps?\n",
    "\n",
    "## Stages of the project\n",
    "\n",
    "1. Sourcing and loading \n",
    "    * Load the two datasets\n",
    "    * Pick the columns that we are going to work with \n",
    "    * Subsetting the data on this basis \n",
    " \n",
    " \n",
    "2. Cleaning, transforming and visualizing\n",
    "    * Check the data types and fix them\n",
    "    * Add a `platform` column to both the `Apple` and the `Google` dataframes\n",
    "    * Changing the column names to prepare for a join \n",
    "    * Join the two data sets\n",
    "    * Eliminate the `NaN` values\n",
    "    * Filter only those apps that have been reviewed at least once\n",
    "    * Summarize the data visually and analytically (by the column `platform`)  \n",
    "  \n",
    "  \n",
    "3. Modelling \n",
    "    * Hypothesis formulation\n",
    "    * Getting the distribution of the data\n",
    "    * Permutation test \n",
    "\n",
    "\n",
    "4. Evaluating and concluding \n",
    "    * What is our conclusion?\n",
    "    * What is our decision?\n",
    "    * Other models we could have used. \n",
    "    "
   ]
  },
  {
   "cell_type": "markdown",
   "metadata": {
    "id": "QLUAXtl1Fcuk",
    "colab_type": "text"
   },
   "source": [
    "## Importing the libraries\n",
    "\n",
    "In this case we are going to import pandas, numpy, scipy, random and matplotlib.pyplot"
   ]
  },
  {
   "cell_type": "code",
   "metadata": {
    "id": "XeXJOlGiFcum",
    "colab_type": "code",
    "colab": {},
    "ExecuteTime": {
     "end_time": "2023-10-07T22:16:30.518513Z",
     "start_time": "2023-10-07T22:16:29.938606Z"
    }
   },
   "source": [
    "import pandas as pd\n",
    "import numpy as np\n",
    "import matplotlib.pyplot as plt\n",
    "import seaborn as sns\n",
    "# scipi is a library for statistical tests and visualizations \n",
    "from scipy import stats\n",
    "# random enables us to generate random numbers\n",
    "import random\n",
    "sns.set_style('darkgrid') # Set Seaborn style"
   ],
   "execution_count": 289,
   "outputs": []
  },
  {
   "cell_type": "markdown",
   "metadata": {
    "id": "zVD7NlPAFcup",
    "colab_type": "text"
   },
   "source": [
    "## Stage 1 -  Sourcing and loading data"
   ]
  },
  {
   "cell_type": "markdown",
   "metadata": {
    "id": "KU8bdbImFcuq",
    "colab_type": "text"
   },
   "source": [
    "### 1a. Source and load the data\n",
    "Let's download the data from Kaggle. Kaggle is a fantastic resource: a kind of social medium for data scientists, it boasts projects, datasets and news on the freshest libraries and technologies all in one place. The data from the Apple Store can be found [here](https://www.kaggle.com/ramamet4/app-store-apple-data-set-10k-apps) and the data from Google Store can be found [here](https://www.kaggle.com/lava18/google-play-store-apps).\n",
    "Download the datasets and save them in your working directory."
   ]
  },
  {
   "cell_type": "code",
   "metadata": {
    "id": "laM1PB76Fcur",
    "colab_type": "code",
    "colab": {},
    "ExecuteTime": {
     "end_time": "2023-10-07T22:16:30.925056Z",
     "start_time": "2023-10-07T22:16:29.957223Z"
    }
   },
   "source": [
    "# Now that the files are saved, we want to load them into Python using read_csv and pandas.\n",
    "\n",
    "# Create a variable called google, and store in it the path of the csv file that contains your google dataset. \n",
    "# If your dataset is in the same folder as this notebook, the path will simply be the name of the file. \n",
    "file_path_google_play_store = 'data/googleplaystore.csv'\n",
    "\n",
    "# Read the csv file into a data frame called Google using the read_csv() pandas method.\n",
    "df_google_play_store = pd.read_csv(file_path_google_play_store)\n",
    "\n",
    "# Using the head() pandas method, observe the first three entries.\n",
    "df_google_play_store.head()"
   ],
   "execution_count": 290,
   "outputs": [
    {
     "data": {
      "text/plain": "                                                 App        Category  Rating  \\\n0     Photo Editor & Candy Camera & Grid & ScrapBook  ART_AND_DESIGN     4.1   \n1                                Coloring book moana  ART_AND_DESIGN     3.9   \n2  U Launcher Lite – FREE Live Cool Themes, Hide ...  ART_AND_DESIGN     4.7   \n3                              Sketch - Draw & Paint  ART_AND_DESIGN     4.5   \n4              Pixel Draw - Number Art Coloring Book  ART_AND_DESIGN     4.3   \n\n  Reviews  Size     Installs  Type Price Content Rating  \\\n0     159   19M      10,000+  Free     0       Everyone   \n1     967   14M     500,000+  Free     0       Everyone   \n2   87510  8.7M   5,000,000+  Free     0       Everyone   \n3  215644   25M  50,000,000+  Free     0           Teen   \n4     967  2.8M     100,000+  Free     0       Everyone   \n\n                      Genres      Last Updated         Current Ver  \\\n0               Art & Design   January 7, 2018               1.0.0   \n1  Art & Design;Pretend Play  January 15, 2018               2.0.0   \n2               Art & Design    August 1, 2018               1.2.4   \n3               Art & Design      June 8, 2018  Varies with device   \n4    Art & Design;Creativity     June 20, 2018                 1.1   \n\n    Android Ver  \n0  4.0.3 and up  \n1  4.0.3 and up  \n2  4.0.3 and up  \n3    4.2 and up  \n4    4.4 and up  ",
      "text/html": "<div>\n<style scoped>\n    .dataframe tbody tr th:only-of-type {\n        vertical-align: middle;\n    }\n\n    .dataframe tbody tr th {\n        vertical-align: top;\n    }\n\n    .dataframe thead th {\n        text-align: right;\n    }\n</style>\n<table border=\"1\" class=\"dataframe\">\n  <thead>\n    <tr style=\"text-align: right;\">\n      <th></th>\n      <th>App</th>\n      <th>Category</th>\n      <th>Rating</th>\n      <th>Reviews</th>\n      <th>Size</th>\n      <th>Installs</th>\n      <th>Type</th>\n      <th>Price</th>\n      <th>Content Rating</th>\n      <th>Genres</th>\n      <th>Last Updated</th>\n      <th>Current Ver</th>\n      <th>Android Ver</th>\n    </tr>\n  </thead>\n  <tbody>\n    <tr>\n      <th>0</th>\n      <td>Photo Editor &amp; Candy Camera &amp; Grid &amp; ScrapBook</td>\n      <td>ART_AND_DESIGN</td>\n      <td>4.1</td>\n      <td>159</td>\n      <td>19M</td>\n      <td>10,000+</td>\n      <td>Free</td>\n      <td>0</td>\n      <td>Everyone</td>\n      <td>Art &amp; Design</td>\n      <td>January 7, 2018</td>\n      <td>1.0.0</td>\n      <td>4.0.3 and up</td>\n    </tr>\n    <tr>\n      <th>1</th>\n      <td>Coloring book moana</td>\n      <td>ART_AND_DESIGN</td>\n      <td>3.9</td>\n      <td>967</td>\n      <td>14M</td>\n      <td>500,000+</td>\n      <td>Free</td>\n      <td>0</td>\n      <td>Everyone</td>\n      <td>Art &amp; Design;Pretend Play</td>\n      <td>January 15, 2018</td>\n      <td>2.0.0</td>\n      <td>4.0.3 and up</td>\n    </tr>\n    <tr>\n      <th>2</th>\n      <td>U Launcher Lite – FREE Live Cool Themes, Hide ...</td>\n      <td>ART_AND_DESIGN</td>\n      <td>4.7</td>\n      <td>87510</td>\n      <td>8.7M</td>\n      <td>5,000,000+</td>\n      <td>Free</td>\n      <td>0</td>\n      <td>Everyone</td>\n      <td>Art &amp; Design</td>\n      <td>August 1, 2018</td>\n      <td>1.2.4</td>\n      <td>4.0.3 and up</td>\n    </tr>\n    <tr>\n      <th>3</th>\n      <td>Sketch - Draw &amp; Paint</td>\n      <td>ART_AND_DESIGN</td>\n      <td>4.5</td>\n      <td>215644</td>\n      <td>25M</td>\n      <td>50,000,000+</td>\n      <td>Free</td>\n      <td>0</td>\n      <td>Teen</td>\n      <td>Art &amp; Design</td>\n      <td>June 8, 2018</td>\n      <td>Varies with device</td>\n      <td>4.2 and up</td>\n    </tr>\n    <tr>\n      <th>4</th>\n      <td>Pixel Draw - Number Art Coloring Book</td>\n      <td>ART_AND_DESIGN</td>\n      <td>4.3</td>\n      <td>967</td>\n      <td>2.8M</td>\n      <td>100,000+</td>\n      <td>Free</td>\n      <td>0</td>\n      <td>Everyone</td>\n      <td>Art &amp; Design;Creativity</td>\n      <td>June 20, 2018</td>\n      <td>1.1</td>\n      <td>4.4 and up</td>\n    </tr>\n  </tbody>\n</table>\n</div>"
     },
     "execution_count": 290,
     "metadata": {},
     "output_type": "execute_result"
    }
   ]
  },
  {
   "cell_type": "code",
   "metadata": {
    "id": "3AW8EA1wFcuu",
    "colab_type": "code",
    "colab": {},
    "ExecuteTime": {
     "end_time": "2023-10-07T22:16:31.007069Z",
     "start_time": "2023-10-07T22:16:30.026017Z"
    }
   },
   "source": [
    "# Create a variable called apple, and store in it the path of the csv file that contains your apple dataset. \n",
    "file_path_apple_play_store = 'data/AppleStore.csv'\n",
    "\n",
    "# Read the csv file into a pandas DataFrame object called Apple.\n",
    "df_apple_play_store = pd.read_csv(file_path_apple_play_store)\n",
    "\n",
    "# Observe the first three entries like you did with your other data. \n",
    "df_apple_play_store.head()"
   ],
   "execution_count": 291,
   "outputs": [
    {
     "data": {
      "text/plain": "   Unnamed: 0         id                                         track_name  \\\n0           1  281656475                                    PAC-MAN Premium   \n1           2  281796108                          Evernote - stay organized   \n2           3  281940292    WeatherBug - Local Weather, Radar, Maps, Alerts   \n3           4  282614216  eBay: Best App to Buy, Sell, Save! Online Shop...   \n4           5  282935706                                              Bible   \n\n   size_bytes currency  price  rating_count_tot  rating_count_ver  \\\n0   100788224      USD   3.99             21292                26   \n1   158578688      USD   0.00            161065                26   \n2   100524032      USD   0.00            188583              2822   \n3   128512000      USD   0.00            262241               649   \n4    92774400      USD   0.00            985920              5320   \n\n   user_rating  user_rating_ver     ver cont_rating   prime_genre  \\\n0          4.0              4.5   6.3.5          4+         Games   \n1          4.0              3.5   8.2.2          4+  Productivity   \n2          3.5              4.5   5.0.0          4+       Weather   \n3          4.0              4.5  5.10.0         12+      Shopping   \n4          4.5              5.0   7.5.1          4+     Reference   \n\n   sup_devices.num  ipadSc_urls.num  lang.num  vpp_lic  \n0               38                5        10        1  \n1               37                5        23        1  \n2               37                5         3        1  \n3               37                5         9        1  \n4               37                5        45        1  ",
      "text/html": "<div>\n<style scoped>\n    .dataframe tbody tr th:only-of-type {\n        vertical-align: middle;\n    }\n\n    .dataframe tbody tr th {\n        vertical-align: top;\n    }\n\n    .dataframe thead th {\n        text-align: right;\n    }\n</style>\n<table border=\"1\" class=\"dataframe\">\n  <thead>\n    <tr style=\"text-align: right;\">\n      <th></th>\n      <th>Unnamed: 0</th>\n      <th>id</th>\n      <th>track_name</th>\n      <th>size_bytes</th>\n      <th>currency</th>\n      <th>price</th>\n      <th>rating_count_tot</th>\n      <th>rating_count_ver</th>\n      <th>user_rating</th>\n      <th>user_rating_ver</th>\n      <th>ver</th>\n      <th>cont_rating</th>\n      <th>prime_genre</th>\n      <th>sup_devices.num</th>\n      <th>ipadSc_urls.num</th>\n      <th>lang.num</th>\n      <th>vpp_lic</th>\n    </tr>\n  </thead>\n  <tbody>\n    <tr>\n      <th>0</th>\n      <td>1</td>\n      <td>281656475</td>\n      <td>PAC-MAN Premium</td>\n      <td>100788224</td>\n      <td>USD</td>\n      <td>3.99</td>\n      <td>21292</td>\n      <td>26</td>\n      <td>4.0</td>\n      <td>4.5</td>\n      <td>6.3.5</td>\n      <td>4+</td>\n      <td>Games</td>\n      <td>38</td>\n      <td>5</td>\n      <td>10</td>\n      <td>1</td>\n    </tr>\n    <tr>\n      <th>1</th>\n      <td>2</td>\n      <td>281796108</td>\n      <td>Evernote - stay organized</td>\n      <td>158578688</td>\n      <td>USD</td>\n      <td>0.00</td>\n      <td>161065</td>\n      <td>26</td>\n      <td>4.0</td>\n      <td>3.5</td>\n      <td>8.2.2</td>\n      <td>4+</td>\n      <td>Productivity</td>\n      <td>37</td>\n      <td>5</td>\n      <td>23</td>\n      <td>1</td>\n    </tr>\n    <tr>\n      <th>2</th>\n      <td>3</td>\n      <td>281940292</td>\n      <td>WeatherBug - Local Weather, Radar, Maps, Alerts</td>\n      <td>100524032</td>\n      <td>USD</td>\n      <td>0.00</td>\n      <td>188583</td>\n      <td>2822</td>\n      <td>3.5</td>\n      <td>4.5</td>\n      <td>5.0.0</td>\n      <td>4+</td>\n      <td>Weather</td>\n      <td>37</td>\n      <td>5</td>\n      <td>3</td>\n      <td>1</td>\n    </tr>\n    <tr>\n      <th>3</th>\n      <td>4</td>\n      <td>282614216</td>\n      <td>eBay: Best App to Buy, Sell, Save! Online Shop...</td>\n      <td>128512000</td>\n      <td>USD</td>\n      <td>0.00</td>\n      <td>262241</td>\n      <td>649</td>\n      <td>4.0</td>\n      <td>4.5</td>\n      <td>5.10.0</td>\n      <td>12+</td>\n      <td>Shopping</td>\n      <td>37</td>\n      <td>5</td>\n      <td>9</td>\n      <td>1</td>\n    </tr>\n    <tr>\n      <th>4</th>\n      <td>5</td>\n      <td>282935706</td>\n      <td>Bible</td>\n      <td>92774400</td>\n      <td>USD</td>\n      <td>0.00</td>\n      <td>985920</td>\n      <td>5320</td>\n      <td>4.5</td>\n      <td>5.0</td>\n      <td>7.5.1</td>\n      <td>4+</td>\n      <td>Reference</td>\n      <td>37</td>\n      <td>5</td>\n      <td>45</td>\n      <td>1</td>\n    </tr>\n  </tbody>\n</table>\n</div>"
     },
     "execution_count": 291,
     "metadata": {},
     "output_type": "execute_result"
    }
   ]
  },
  {
   "cell_type": "markdown",
   "metadata": {
    "id": "vljOHKNTFcuw",
    "colab_type": "text"
   },
   "source": [
    "### 1b. Pick the columns we'll work with\n",
    "\n",
    "From the documentation of these datasets, we can infer that the most appropriate columns to answer the brief are:\n",
    "\n",
    "1. Google:\n",
    "    * `Category` # Do we need this?\n",
    "    * `Rating`\n",
    "    * `Reviews`\n",
    "    * `Price` (maybe)\n",
    "2. Apple:    \n",
    "    * `prime_genre` # Do we need this?\n",
    "    * `user_rating` \n",
    "    * `rating_count_tot`\n",
    "    * `price` (maybe)"
   ]
  },
  {
   "cell_type": "markdown",
   "metadata": {
    "id": "uf69AeTvFcux",
    "colab_type": "text"
   },
   "source": [
    "### 1c. Subsetting accordingly\n",
    "\n",
    "Let's select only those columns that we want to work with from both datasets. We'll overwrite the subsets in the original variables."
   ]
  },
  {
   "cell_type": "code",
   "metadata": {
    "id": "LNSDXyjdFcuy",
    "colab_type": "code",
    "colab": {},
    "ExecuteTime": {
     "end_time": "2023-10-07T22:16:31.044776Z",
     "start_time": "2023-10-07T22:16:30.080605Z"
    }
   },
   "source": [
    "# Subset our DataFrame object Google by selecting just the variables ['Category', 'Rating', 'Reviews', 'Price']\n",
    "df_google_play_store = df_google_play_store[['Category', 'Rating', 'Reviews', 'Price']]\n",
    "\n",
    "# Check the first three entries\n",
    "df_google_play_store.head()"
   ],
   "execution_count": 292,
   "outputs": [
    {
     "data": {
      "text/plain": "         Category  Rating Reviews Price\n0  ART_AND_DESIGN     4.1     159     0\n1  ART_AND_DESIGN     3.9     967     0\n2  ART_AND_DESIGN     4.7   87510     0\n3  ART_AND_DESIGN     4.5  215644     0\n4  ART_AND_DESIGN     4.3     967     0",
      "text/html": "<div>\n<style scoped>\n    .dataframe tbody tr th:only-of-type {\n        vertical-align: middle;\n    }\n\n    .dataframe tbody tr th {\n        vertical-align: top;\n    }\n\n    .dataframe thead th {\n        text-align: right;\n    }\n</style>\n<table border=\"1\" class=\"dataframe\">\n  <thead>\n    <tr style=\"text-align: right;\">\n      <th></th>\n      <th>Category</th>\n      <th>Rating</th>\n      <th>Reviews</th>\n      <th>Price</th>\n    </tr>\n  </thead>\n  <tbody>\n    <tr>\n      <th>0</th>\n      <td>ART_AND_DESIGN</td>\n      <td>4.1</td>\n      <td>159</td>\n      <td>0</td>\n    </tr>\n    <tr>\n      <th>1</th>\n      <td>ART_AND_DESIGN</td>\n      <td>3.9</td>\n      <td>967</td>\n      <td>0</td>\n    </tr>\n    <tr>\n      <th>2</th>\n      <td>ART_AND_DESIGN</td>\n      <td>4.7</td>\n      <td>87510</td>\n      <td>0</td>\n    </tr>\n    <tr>\n      <th>3</th>\n      <td>ART_AND_DESIGN</td>\n      <td>4.5</td>\n      <td>215644</td>\n      <td>0</td>\n    </tr>\n    <tr>\n      <th>4</th>\n      <td>ART_AND_DESIGN</td>\n      <td>4.3</td>\n      <td>967</td>\n      <td>0</td>\n    </tr>\n  </tbody>\n</table>\n</div>"
     },
     "execution_count": 292,
     "metadata": {},
     "output_type": "execute_result"
    }
   ]
  },
  {
   "cell_type": "code",
   "metadata": {
    "id": "AVCtENPtFcu0",
    "colab_type": "code",
    "colab": {},
    "ExecuteTime": {
     "end_time": "2023-10-07T22:16:31.078994Z",
     "start_time": "2023-10-07T22:16:30.093809Z"
    }
   },
   "source": [
    "# Do the same with our Apple object, selecting just the variables ['prime_genre', 'user_rating', 'rating_count_tot', 'price']\n",
    "df_apple_play_store = df_apple_play_store[['prime_genre', 'user_rating', 'rating_count_tot', 'price']]\n",
    "\n",
    "# Let's check the first three entries\n",
    "df_apple_play_store.head()"
   ],
   "execution_count": 293,
   "outputs": [
    {
     "data": {
      "text/plain": "    prime_genre  user_rating  rating_count_tot  price\n0         Games          4.0             21292   3.99\n1  Productivity          4.0            161065   0.00\n2       Weather          3.5            188583   0.00\n3      Shopping          4.0            262241   0.00\n4     Reference          4.5            985920   0.00",
      "text/html": "<div>\n<style scoped>\n    .dataframe tbody tr th:only-of-type {\n        vertical-align: middle;\n    }\n\n    .dataframe tbody tr th {\n        vertical-align: top;\n    }\n\n    .dataframe thead th {\n        text-align: right;\n    }\n</style>\n<table border=\"1\" class=\"dataframe\">\n  <thead>\n    <tr style=\"text-align: right;\">\n      <th></th>\n      <th>prime_genre</th>\n      <th>user_rating</th>\n      <th>rating_count_tot</th>\n      <th>price</th>\n    </tr>\n  </thead>\n  <tbody>\n    <tr>\n      <th>0</th>\n      <td>Games</td>\n      <td>4.0</td>\n      <td>21292</td>\n      <td>3.99</td>\n    </tr>\n    <tr>\n      <th>1</th>\n      <td>Productivity</td>\n      <td>4.0</td>\n      <td>161065</td>\n      <td>0.00</td>\n    </tr>\n    <tr>\n      <th>2</th>\n      <td>Weather</td>\n      <td>3.5</td>\n      <td>188583</td>\n      <td>0.00</td>\n    </tr>\n    <tr>\n      <th>3</th>\n      <td>Shopping</td>\n      <td>4.0</td>\n      <td>262241</td>\n      <td>0.00</td>\n    </tr>\n    <tr>\n      <th>4</th>\n      <td>Reference</td>\n      <td>4.5</td>\n      <td>985920</td>\n      <td>0.00</td>\n    </tr>\n  </tbody>\n</table>\n</div>"
     },
     "execution_count": 293,
     "metadata": {},
     "output_type": "execute_result"
    }
   ]
  },
  {
   "cell_type": "markdown",
   "metadata": {
    "id": "wwK2wH-rFcu2",
    "colab_type": "text"
   },
   "source": [
    "## Stage 2 -  Cleaning, transforming and visualizing"
   ]
  },
  {
   "cell_type": "markdown",
   "metadata": {
    "id": "NsoE5x0JFcu3",
    "colab_type": "text"
   },
   "source": [
    "### 2a. Check the data types for both Apple and Google, and fix them\n",
    "\n",
    "Types are crucial for data science in Python. Let's determine whether the variables we selected in the previous section belong to the types they should do, or whether there are any errors here. "
   ]
  },
  {
   "cell_type": "code",
   "metadata": {
    "id": "ymw10SaWFcu4",
    "colab_type": "code",
    "colab": {},
    "ExecuteTime": {
     "end_time": "2023-10-07T22:16:31.088200Z",
     "start_time": "2023-10-07T22:16:30.103334Z"
    }
   },
   "source": [
    "# Using the dtypes feature of pandas DataFrame objects, check out the data types within our Apple dataframe.\n",
    "# Are they what you expect?\n",
    "df_apple_play_store.dtypes"
   ],
   "execution_count": 294,
   "outputs": [
    {
     "data": {
      "text/plain": "prime_genre          object\nuser_rating         float64\nrating_count_tot      int64\nprice               float64\ndtype: object"
     },
     "execution_count": 294,
     "metadata": {},
     "output_type": "execute_result"
    }
   ]
  },
  {
   "cell_type": "markdown",
   "metadata": {
    "id": "VAiM6jIxFcu6",
    "colab_type": "text"
   },
   "source": [
    "This is looking healthy. But what about our Google data frame?"
   ]
  },
  {
   "cell_type": "code",
   "metadata": {
    "id": "kmP8MhqyFcu7",
    "colab_type": "code",
    "colab": {},
    "ExecuteTime": {
     "end_time": "2023-10-07T22:16:31.088608Z",
     "start_time": "2023-10-07T22:16:30.110650Z"
    }
   },
   "source": [
    "# Using the same dtypes feature, check out the data types of our Google dataframe. \n",
    "df_google_play_store.dtypes "
   ],
   "execution_count": 295,
   "outputs": [
    {
     "data": {
      "text/plain": "Category     object\nRating      float64\nReviews      object\nPrice        object\ndtype: object"
     },
     "execution_count": 295,
     "metadata": {},
     "output_type": "execute_result"
    }
   ]
  },
  {
   "cell_type": "markdown",
   "metadata": {
    "id": "O-dxAy0WFcu9",
    "colab_type": "text"
   },
   "source": [
    "Weird. The data type for the column 'Price' is 'object', not a numeric data type like a float or an integer. Let's investigate the unique values of this column. "
   ]
  },
  {
   "cell_type": "code",
   "metadata": {
    "id": "Hu08K9y7Fcu9",
    "colab_type": "code",
    "colab": {},
    "ExecuteTime": {
     "end_time": "2023-10-07T22:16:31.117543Z",
     "start_time": "2023-10-07T22:16:30.118737Z"
    }
   },
   "source": [
    "# Use the unique() pandas method on the Price column to check its unique values. \n",
    "df_google_play_store.Price.value_counts()"
   ],
   "execution_count": 296,
   "outputs": [
    {
     "data": {
      "text/plain": "Price\n0         10040\n$0.99       148\n$2.99       129\n$1.99        73\n$4.99        72\n          ...  \n$1.75         1\n$14.00        1\n$4.85         1\n$46.99        1\n$1.04         1\nName: count, Length: 93, dtype: int64"
     },
     "execution_count": 296,
     "metadata": {},
     "output_type": "execute_result"
    }
   ]
  },
  {
   "cell_type": "code",
   "execution_count": 297,
   "outputs": [
    {
     "data": {
      "text/plain": "{'$0.99',\n '$1.00',\n '$1.04',\n '$1.20',\n '$1.26',\n '$1.29',\n '$1.49',\n '$1.50',\n '$1.59',\n '$1.61',\n '$1.70',\n '$1.75',\n '$1.76',\n '$1.96',\n '$1.97',\n '$1.99',\n '$10.00',\n '$10.99',\n '$109.99',\n '$11.99',\n '$12.99',\n '$13.99',\n '$14.00',\n '$14.99',\n '$15.46',\n '$15.99',\n '$154.99',\n '$16.99',\n '$17.99',\n '$18.99',\n '$19.40',\n '$19.90',\n '$19.99',\n '$2.00',\n '$2.49',\n '$2.50',\n '$2.56',\n '$2.59',\n '$2.60',\n '$2.90',\n '$2.95',\n '$2.99',\n '$200.00',\n '$24.99',\n '$25.99',\n '$28.99',\n '$29.99',\n '$299.99',\n '$3.02',\n '$3.04',\n '$3.08',\n '$3.28',\n '$3.49',\n '$3.61',\n '$3.88',\n '$3.90',\n '$3.95',\n '$3.99',\n '$30.99',\n '$33.99',\n '$37.99',\n '$379.99',\n '$389.99',\n '$39.99',\n '$394.99',\n '$399.99',\n '$4.29',\n '$4.49',\n '$4.59',\n '$4.60',\n '$4.77',\n '$4.80',\n '$4.84',\n '$4.85',\n '$4.99',\n '$400.00',\n '$46.99',\n '$5.00',\n '$5.49',\n '$5.99',\n '$6.49',\n '$6.99',\n '$7.49',\n '$7.99',\n '$74.99',\n '$79.99',\n '$8.49',\n '$8.99',\n '$89.99',\n '$9.00',\n '$9.99',\n '0',\n 'Everyone'}"
     },
     "execution_count": 297,
     "metadata": {},
     "output_type": "execute_result"
    }
   ],
   "source": [
    "set(df_google_play_store.Price)"
   ],
   "metadata": {
    "collapsed": false,
    "ExecuteTime": {
     "end_time": "2023-10-07T22:16:31.120531Z",
     "start_time": "2023-10-07T22:16:30.127070Z"
    }
   }
  },
  {
   "cell_type": "markdown",
   "metadata": {
    "id": "w_7nkogFFcu_",
    "colab_type": "text"
   },
   "source": [
    "Aha! Fascinating. There are actually two issues here. \n",
    "\n",
    "- Firstly, there's a price called `Everyone`. That is a massive mistake! \n",
    "- Secondly, there are dollar symbols everywhere! \n",
    "\n",
    "\n",
    "Let's address the first issue first. Let's check the datapoints that have the price value `Everyone`"
   ]
  },
  {
   "cell_type": "code",
   "metadata": {
    "id": "E75WWmhdFcvA",
    "colab_type": "code",
    "colab": {},
    "ExecuteTime": {
     "end_time": "2023-10-07T22:16:31.178080Z",
     "start_time": "2023-10-07T22:16:30.133035Z"
    }
   },
   "source": [
    "# Let's check which data points have the value 'Everyone' for the 'Price' column by subsetting our Google dataframe.\n",
    "\n",
    "# Subset the Google dataframe on the price column. \n",
    "# To be sure: you want to pick out just those rows whose value for the 'Price' column is just 'Everyone'. \n",
    "df_google_play_store[df_google_play_store.Price == 'Everyone']"
   ],
   "execution_count": 298,
   "outputs": [
    {
     "data": {
      "text/plain": "      Category  Rating Reviews     Price\n10472      1.9    19.0    3.0M  Everyone",
      "text/html": "<div>\n<style scoped>\n    .dataframe tbody tr th:only-of-type {\n        vertical-align: middle;\n    }\n\n    .dataframe tbody tr th {\n        vertical-align: top;\n    }\n\n    .dataframe thead th {\n        text-align: right;\n    }\n</style>\n<table border=\"1\" class=\"dataframe\">\n  <thead>\n    <tr style=\"text-align: right;\">\n      <th></th>\n      <th>Category</th>\n      <th>Rating</th>\n      <th>Reviews</th>\n      <th>Price</th>\n    </tr>\n  </thead>\n  <tbody>\n    <tr>\n      <th>10472</th>\n      <td>1.9</td>\n      <td>19.0</td>\n      <td>3.0M</td>\n      <td>Everyone</td>\n    </tr>\n  </tbody>\n</table>\n</div>"
     },
     "execution_count": 298,
     "metadata": {},
     "output_type": "execute_result"
    }
   ]
  },
  {
   "cell_type": "markdown",
   "metadata": {
    "id": "ezfLshdRFcvC",
    "colab_type": "text"
   },
   "source": [
    "Thankfully, it's just one row. We've gotta get rid of it. "
   ]
  },
  {
   "cell_type": "code",
   "metadata": {
    "id": "DBmjUQUkFcvD",
    "colab_type": "code",
    "colab": {},
    "ExecuteTime": {
     "end_time": "2023-10-07T22:16:31.196280Z",
     "start_time": "2023-10-07T22:16:30.147854Z"
    }
   },
   "source": [
    "# Let's eliminate that row. \n",
    "\n",
    "# Subset our Google dataframe to pick out just those rows whose value for the 'Price' column is NOT 'Everyone'. \n",
    "# Reassign that subset to the Google variable. \n",
    "# You can do this in two lines or one. Your choice! \n",
    "df_google_play_store = df_google_play_store[df_google_play_store.Price != 'Everyone']\n",
    "\n",
    "# Check again the unique values of Google\n",
    "set(df_google_play_store.Price)"
   ],
   "execution_count": 299,
   "outputs": [
    {
     "data": {
      "text/plain": "{'$0.99',\n '$1.00',\n '$1.04',\n '$1.20',\n '$1.26',\n '$1.29',\n '$1.49',\n '$1.50',\n '$1.59',\n '$1.61',\n '$1.70',\n '$1.75',\n '$1.76',\n '$1.96',\n '$1.97',\n '$1.99',\n '$10.00',\n '$10.99',\n '$109.99',\n '$11.99',\n '$12.99',\n '$13.99',\n '$14.00',\n '$14.99',\n '$15.46',\n '$15.99',\n '$154.99',\n '$16.99',\n '$17.99',\n '$18.99',\n '$19.40',\n '$19.90',\n '$19.99',\n '$2.00',\n '$2.49',\n '$2.50',\n '$2.56',\n '$2.59',\n '$2.60',\n '$2.90',\n '$2.95',\n '$2.99',\n '$200.00',\n '$24.99',\n '$25.99',\n '$28.99',\n '$29.99',\n '$299.99',\n '$3.02',\n '$3.04',\n '$3.08',\n '$3.28',\n '$3.49',\n '$3.61',\n '$3.88',\n '$3.90',\n '$3.95',\n '$3.99',\n '$30.99',\n '$33.99',\n '$37.99',\n '$379.99',\n '$389.99',\n '$39.99',\n '$394.99',\n '$399.99',\n '$4.29',\n '$4.49',\n '$4.59',\n '$4.60',\n '$4.77',\n '$4.80',\n '$4.84',\n '$4.85',\n '$4.99',\n '$400.00',\n '$46.99',\n '$5.00',\n '$5.49',\n '$5.99',\n '$6.49',\n '$6.99',\n '$7.49',\n '$7.99',\n '$74.99',\n '$79.99',\n '$8.49',\n '$8.99',\n '$89.99',\n '$9.00',\n '$9.99',\n '0'}"
     },
     "execution_count": 299,
     "metadata": {},
     "output_type": "execute_result"
    }
   ]
  },
  {
   "cell_type": "markdown",
   "metadata": {
    "id": "T43TB4qFFcvF",
    "colab_type": "text"
   },
   "source": [
    "Our second problem remains: I'm seeing dollar symbols when I close my eyes! (And not in a good way). \n",
    "\n",
    "This is a problem because Python actually considers these values strings. So we can't do mathematical and statistical operations on them until we've made them into numbers. "
   ]
  },
  {
   "cell_type": "code",
   "metadata": {
    "id": "W87gVS9BFcvG",
    "colab_type": "code",
    "colab": {},
    "ExecuteTime": {
     "end_time": "2023-10-07T22:16:31.201470Z",
     "start_time": "2023-10-07T22:16:30.171837Z"
    }
   },
   "source": [
    "# Let's create a variable called nosymb.\n",
    "# This variable will take the Price column of Google and apply the str.replace() method. \n",
    "nosymb = df_google_play_store.Price.str.replace('$', '')\n",
    "\n",
    "# Now we need to do two things:\n",
    "# i. Make the values in the nosymb variable numeric using the to_numeric() pandas method.\n",
    "# ii. Assign this new set of numeric, dollar-sign-less values to Google['Price']. \n",
    "# You can do this in one line if you wish.\n",
    "df_google_play_store['Price'] = pd.to_numeric(nosymb)"
   ],
   "execution_count": 300,
   "outputs": []
  },
  {
   "cell_type": "markdown",
   "metadata": {
    "id": "LxpJQ9yyFcvI",
    "colab_type": "text"
   },
   "source": [
    "Now let's check the data types for our Google dataframe again, to verify that the 'Price' column really is numeric now."
   ]
  },
  {
   "cell_type": "code",
   "metadata": {
    "id": "Fn5Gt-QbFcvI",
    "colab_type": "code",
    "colab": {},
    "ExecuteTime": {
     "end_time": "2023-10-07T22:16:31.214133Z",
     "start_time": "2023-10-07T22:16:30.176551Z"
    }
   },
   "source": [
    "# Use the function dtypes. \n",
    "df_google_play_store.dtypes"
   ],
   "execution_count": 301,
   "outputs": [
    {
     "data": {
      "text/plain": "Category     object\nRating      float64\nReviews      object\nPrice       float64\ndtype: object"
     },
     "execution_count": 301,
     "metadata": {},
     "output_type": "execute_result"
    }
   ]
  },
  {
   "cell_type": "markdown",
   "metadata": {
    "id": "FgfuiVo0FcvK",
    "colab_type": "text"
   },
   "source": [
    "Notice that the column `Reviews` is still an object column. We actually need this column to be a numeric column, too. "
   ]
  },
  {
   "cell_type": "code",
   "metadata": {
    "id": "MiVEWsWBFcvL",
    "colab_type": "code",
    "colab": {},
    "ExecuteTime": {
     "end_time": "2023-10-07T22:16:31.232625Z",
     "start_time": "2023-10-07T22:16:30.193991Z"
    }
   },
   "source": [
    "# Convert the 'Reviews' column to a numeric data type. \n",
    "df_google_play_store['Reviews'] = pd.to_numeric(df_google_play_store['Reviews'])"
   ],
   "execution_count": 302,
   "outputs": []
  },
  {
   "cell_type": "code",
   "metadata": {
    "id": "wWJdXXTTFcvN",
    "colab_type": "code",
    "colab": {},
    "ExecuteTime": {
     "end_time": "2023-10-07T22:16:31.242429Z",
     "start_time": "2023-10-07T22:16:30.205585Z"
    }
   },
   "source": [
    "# Let's check the data types of Google again\n",
    "df_google_play_store.dtypes"
   ],
   "execution_count": 303,
   "outputs": [
    {
     "data": {
      "text/plain": "Category     object\nRating      float64\nReviews       int64\nPrice       float64\ndtype: object"
     },
     "execution_count": 303,
     "metadata": {},
     "output_type": "execute_result"
    }
   ]
  },
  {
   "cell_type": "markdown",
   "metadata": {
    "id": "OiLm2GEKFcvP",
    "colab_type": "text"
   },
   "source": [
    "### 2b. Add a `platform` column to both the `Apple` and the `Google` dataframes\n",
    "Let's add a new column to both dataframe objects called `platform`: all of its values in the Google dataframe will be just 'google', and all of its values for the Apple dataframe will be just 'apple'. \n",
    "\n",
    "The reason we're making this column is so that we can ultimately join our Apple and Google data together, and actually test out some hypotheses to solve the problem in our brief. "
   ]
  },
  {
   "cell_type": "code",
   "metadata": {
    "id": "mF-sOcx2FcvQ",
    "colab_type": "code",
    "colab": {},
    "ExecuteTime": {
     "end_time": "2023-10-07T22:16:31.305728Z",
     "start_time": "2023-10-07T22:16:30.210786Z"
    }
   },
   "source": [
    "# Create a column called 'platform' in both the Apple and Google dataframes. \n",
    "# Add the value 'apple' and the value 'google' as appropriate. \n",
    "df_google_play_store['platform'] = 'google'\n",
    "df_apple_play_store['platform'] = 'apple'"
   ],
   "execution_count": 304,
   "outputs": []
  },
  {
   "cell_type": "code",
   "execution_count": 305,
   "outputs": [
    {
     "name": "stdout",
     "output_type": "stream",
     "text": [
      "['google'] ['apple']\n"
     ]
    }
   ],
   "source": [
    "# Confirming column addition\n",
    "print(df_google_play_store['platform'].unique(), df_apple_play_store['platform'].unique())"
   ],
   "metadata": {
    "collapsed": false,
    "ExecuteTime": {
     "end_time": "2023-10-07T22:16:31.372659Z",
     "start_time": "2023-10-07T22:16:30.247818Z"
    }
   }
  },
  {
   "cell_type": "markdown",
   "metadata": {
    "id": "EJcry17IFcvS",
    "colab_type": "text"
   },
   "source": [
    "### 2c. Changing the column names to prepare for our join of the two datasets \n",
    "Since the easiest way to join two datasets is if they have both:\n",
    "- the same number of columns\n",
    "- the same column names\n",
    "we need to rename the columns of `Apple` so that they're the same as the ones of `Google`, or vice versa.\n",
    "\n",
    "In this case, we're going to change the `Apple` columns names to the names of the `Google` columns. \n",
    "\n",
    "This is an important step to unify the two datasets!"
   ]
  },
  {
   "cell_type": "code",
   "execution_count": 306,
   "outputs": [
    {
     "data": {
      "text/plain": "       Category  Rating  Reviews  Price platform\n0         Games     4.0    21292   3.99    apple\n1  Productivity     4.0   161065   0.00    apple\n2       Weather     3.5   188583   0.00    apple\n3      Shopping     4.0   262241   0.00    apple\n4     Reference     4.5   985920   0.00    apple",
      "text/html": "<div>\n<style scoped>\n    .dataframe tbody tr th:only-of-type {\n        vertical-align: middle;\n    }\n\n    .dataframe tbody tr th {\n        vertical-align: top;\n    }\n\n    .dataframe thead th {\n        text-align: right;\n    }\n</style>\n<table border=\"1\" class=\"dataframe\">\n  <thead>\n    <tr style=\"text-align: right;\">\n      <th></th>\n      <th>Category</th>\n      <th>Rating</th>\n      <th>Reviews</th>\n      <th>Price</th>\n      <th>platform</th>\n    </tr>\n  </thead>\n  <tbody>\n    <tr>\n      <th>0</th>\n      <td>Games</td>\n      <td>4.0</td>\n      <td>21292</td>\n      <td>3.99</td>\n      <td>apple</td>\n    </tr>\n    <tr>\n      <th>1</th>\n      <td>Productivity</td>\n      <td>4.0</td>\n      <td>161065</td>\n      <td>0.00</td>\n      <td>apple</td>\n    </tr>\n    <tr>\n      <th>2</th>\n      <td>Weather</td>\n      <td>3.5</td>\n      <td>188583</td>\n      <td>0.00</td>\n      <td>apple</td>\n    </tr>\n    <tr>\n      <th>3</th>\n      <td>Shopping</td>\n      <td>4.0</td>\n      <td>262241</td>\n      <td>0.00</td>\n      <td>apple</td>\n    </tr>\n    <tr>\n      <th>4</th>\n      <td>Reference</td>\n      <td>4.5</td>\n      <td>985920</td>\n      <td>0.00</td>\n      <td>apple</td>\n    </tr>\n  </tbody>\n</table>\n</div>"
     },
     "execution_count": 306,
     "metadata": {},
     "output_type": "execute_result"
    }
   ],
   "source": [
    "# Create a variable called old_names where you'll store the column names of the Apple dataframe. \n",
    "# Use the feature .columns.\n",
    "df_apple_old_col_names = df_apple_play_store.columns\n",
    "\n",
    "# Create a variable called new_names where you'll store the column names of the Google dataframe. \n",
    "df_apple_new_col_names = df_google_play_store.columns\n",
    "\n",
    "# Use the rename() DataFrame method to change the columns names. \n",
    "df_apple_play_store.columns = df_apple_new_col_names\n",
    "\n",
    "df_apple_play_store.head()"
   ],
   "metadata": {
    "collapsed": false,
    "ExecuteTime": {
     "end_time": "2023-10-07T22:16:31.391521Z",
     "start_time": "2023-10-07T22:16:30.261298Z"
    }
   }
  },
  {
   "cell_type": "markdown",
   "metadata": {
    "id": "qewPiLrRFcvX",
    "colab_type": "text"
   },
   "source": [
    "### 2d. Join the two datasets \n",
    "Let's combine the two datasets into a single data frame called `df`."
   ]
  },
  {
   "cell_type": "code",
   "execution_count": 307,
   "outputs": [
    {
     "data": {
      "text/plain": "                Category  Rating  Reviews  Price platform\n3784  NEWS_AND_MAGAZINES     4.2    61692   0.00   google\n2876         PHOTOGRAPHY     4.0    35724   0.00   google\n5557       Entertainment     4.5     2061   1.99    apple\n3730               Games     4.0     1010   2.99    apple\n5040       Entertainment     4.0       21   0.00    apple\n7407              FAMILY     NaN       44   0.00   google\n2915         PHOTOGRAPHY     4.4  1494491   0.00   google\n5344       Photo & Video     4.0      244   3.99    apple\n7479              FAMILY     4.2     1415   0.00   google\n260        Entertainment     3.0    60236   0.00    apple\n1000       ENTERTAINMENT     4.3   160164   0.00   google\n7260               TOOLS     4.3      123   0.00   google",
      "text/html": "<div>\n<style scoped>\n    .dataframe tbody tr th:only-of-type {\n        vertical-align: middle;\n    }\n\n    .dataframe tbody tr th {\n        vertical-align: top;\n    }\n\n    .dataframe thead th {\n        text-align: right;\n    }\n</style>\n<table border=\"1\" class=\"dataframe\">\n  <thead>\n    <tr style=\"text-align: right;\">\n      <th></th>\n      <th>Category</th>\n      <th>Rating</th>\n      <th>Reviews</th>\n      <th>Price</th>\n      <th>platform</th>\n    </tr>\n  </thead>\n  <tbody>\n    <tr>\n      <th>3784</th>\n      <td>NEWS_AND_MAGAZINES</td>\n      <td>4.2</td>\n      <td>61692</td>\n      <td>0.00</td>\n      <td>google</td>\n    </tr>\n    <tr>\n      <th>2876</th>\n      <td>PHOTOGRAPHY</td>\n      <td>4.0</td>\n      <td>35724</td>\n      <td>0.00</td>\n      <td>google</td>\n    </tr>\n    <tr>\n      <th>5557</th>\n      <td>Entertainment</td>\n      <td>4.5</td>\n      <td>2061</td>\n      <td>1.99</td>\n      <td>apple</td>\n    </tr>\n    <tr>\n      <th>3730</th>\n      <td>Games</td>\n      <td>4.0</td>\n      <td>1010</td>\n      <td>2.99</td>\n      <td>apple</td>\n    </tr>\n    <tr>\n      <th>5040</th>\n      <td>Entertainment</td>\n      <td>4.0</td>\n      <td>21</td>\n      <td>0.00</td>\n      <td>apple</td>\n    </tr>\n    <tr>\n      <th>7407</th>\n      <td>FAMILY</td>\n      <td>NaN</td>\n      <td>44</td>\n      <td>0.00</td>\n      <td>google</td>\n    </tr>\n    <tr>\n      <th>2915</th>\n      <td>PHOTOGRAPHY</td>\n      <td>4.4</td>\n      <td>1494491</td>\n      <td>0.00</td>\n      <td>google</td>\n    </tr>\n    <tr>\n      <th>5344</th>\n      <td>Photo &amp; Video</td>\n      <td>4.0</td>\n      <td>244</td>\n      <td>3.99</td>\n      <td>apple</td>\n    </tr>\n    <tr>\n      <th>7479</th>\n      <td>FAMILY</td>\n      <td>4.2</td>\n      <td>1415</td>\n      <td>0.00</td>\n      <td>google</td>\n    </tr>\n    <tr>\n      <th>260</th>\n      <td>Entertainment</td>\n      <td>3.0</td>\n      <td>60236</td>\n      <td>0.00</td>\n      <td>apple</td>\n    </tr>\n    <tr>\n      <th>1000</th>\n      <td>ENTERTAINMENT</td>\n      <td>4.3</td>\n      <td>160164</td>\n      <td>0.00</td>\n      <td>google</td>\n    </tr>\n    <tr>\n      <th>7260</th>\n      <td>TOOLS</td>\n      <td>4.3</td>\n      <td>123</td>\n      <td>0.00</td>\n      <td>google</td>\n    </tr>\n  </tbody>\n</table>\n</div>"
     },
     "execution_count": 307,
     "metadata": {},
     "output_type": "execute_result"
    }
   ],
   "source": [
    "# Let's use the append() method to append Apple to Google. \n",
    "df_combined_apple_google_play_store = pd.concat([df_google_play_store, df_apple_play_store])\n",
    "\n",
    "# Using the sample() method with the number 12 passed to it, check 12 random points of your dataset.\n",
    "df_combined_apple_google_play_store.sample(12)"
   ],
   "metadata": {
    "collapsed": false,
    "ExecuteTime": {
     "end_time": "2023-10-07T22:16:31.392201Z",
     "start_time": "2023-10-07T22:16:30.268876Z"
    }
   }
  },
  {
   "cell_type": "markdown",
   "metadata": {
    "id": "FjqsHugWFcvb",
    "colab_type": "text"
   },
   "source": [
    "### 2e. Eliminate the NaN values\n",
    "\n",
    "As you can see there are some `NaN` values. We want to eliminate all these `NaN` values from the table."
   ]
  },
  {
   "cell_type": "code",
   "execution_count": 308,
   "outputs": [
    {
     "data": {
      "text/plain": "Category       0\nRating      1474\nReviews        0\nPrice          0\nplatform       0\ndtype: int64"
     },
     "execution_count": 308,
     "metadata": {},
     "output_type": "execute_result"
    }
   ],
   "source": [
    "# Count of NaN\n",
    "df_combined_apple_google_play_store.isna().sum()"
   ],
   "metadata": {
    "collapsed": false,
    "ExecuteTime": {
     "end_time": "2023-10-07T22:16:31.392517Z",
     "start_time": "2023-10-07T22:16:30.285012Z"
    }
   }
  },
  {
   "cell_type": "code",
   "execution_count": 309,
   "outputs": [
    {
     "data": {
      "text/plain": "(18037, 5)"
     },
     "execution_count": 309,
     "metadata": {},
     "output_type": "execute_result"
    }
   ],
   "source": [
    "# Lets check first the dimesions of df before droping `NaN` values. Use the .shape feature. \n",
    "df_combined_apple_google_play_store.shape"
   ],
   "metadata": {
    "collapsed": false,
    "ExecuteTime": {
     "end_time": "2023-10-07T22:16:31.411396Z",
     "start_time": "2023-10-07T22:16:30.294950Z"
    }
   }
  },
  {
   "cell_type": "code",
   "execution_count": 310,
   "outputs": [
    {
     "data": {
      "text/plain": "(16563, 5)"
     },
     "execution_count": 310,
     "metadata": {},
     "output_type": "execute_result"
    }
   ],
   "source": [
    "# Use the dropna() method to eliminate all the NaN values, and overwrite the same dataframe with the result. \n",
    "df_combined_apple_google_play_store.dropna(subset=['Rating'], how='all', inplace=True)\n",
    "\n",
    "# Check the new dimesions of our dataframe. \n",
    "df_combined_apple_google_play_store.shape"
   ],
   "metadata": {
    "collapsed": false,
    "ExecuteTime": {
     "end_time": "2023-10-07T22:16:31.411758Z",
     "start_time": "2023-10-07T22:16:30.302690Z"
    }
   }
  },
  {
   "cell_type": "markdown",
   "metadata": {
    "id": "qtfeQKtAFcvd",
    "colab_type": "text"
   },
   "source": [
    "### 2f. Filter the data so that we only see whose apps that have been reviewed at least once\n",
    "\n",
    "Apps that haven't been reviewed yet can't help us solve our brief. \n",
    "\n",
    "So let's check to see if any apps have no reviews at all. "
   ]
  },
  {
   "cell_type": "code",
   "execution_count": 311,
   "outputs": [
    {
     "data": {
      "text/plain": "929"
     },
     "execution_count": 311,
     "metadata": {},
     "output_type": "execute_result"
    }
   ],
   "source": [
    "# Subset your df to pick out just those rows whose value for 'Reviews' is equal to 0. \n",
    "# Do a count() on the result. \n",
    "sum(df_combined_apple_google_play_store['Reviews'] == 0)"
   ],
   "metadata": {
    "collapsed": false,
    "ExecuteTime": {
     "end_time": "2023-10-07T22:16:31.432064Z",
     "start_time": "2023-10-07T22:16:30.317336Z"
    }
   }
  },
  {
   "cell_type": "markdown",
   "metadata": {
    "id": "05f7H0kAFcvg",
    "colab_type": "text"
   },
   "source": [
    "929 apps do not have reviews, we need to eliminate these points!"
   ]
  },
  {
   "cell_type": "code",
   "metadata": {
    "id": "pD8vmPjkFcvg",
    "colab_type": "code",
    "colab": {},
    "ExecuteTime": {
     "end_time": "2023-10-07T22:16:31.432480Z",
     "start_time": "2023-10-07T22:16:30.326195Z"
    }
   },
   "source": [
    "# Eliminate the points that have 0 reviews.\n",
    "df_combined_apple_google_play_store = df_combined_apple_google_play_store[df_combined_apple_google_play_store['Reviews'] != 0]\n",
    "df_combined_apple_google_play_store.shape"
   ],
   "execution_count": 312,
   "outputs": [
    {
     "data": {
      "text/plain": "(15634, 5)"
     },
     "execution_count": 312,
     "metadata": {},
     "output_type": "execute_result"
    }
   ]
  },
  {
   "cell_type": "markdown",
   "metadata": {
    "id": "ApnKES_bFcvi",
    "colab_type": "text"
   },
   "source": [
    "### 2g. Summarize the data visually and analytically (by the column `platform`)"
   ]
  },
  {
   "cell_type": "markdown",
   "metadata": {
    "id": "2smt9UocFcvj",
    "colab_type": "text"
   },
   "source": [
    "What we need to solve our brief is a summary of the `Rating` column, but separated by the different platforms."
   ]
  },
  {
   "cell_type": "code",
   "metadata": {
    "id": "Vqckt347Fcvj",
    "colab_type": "code",
    "colab": {},
    "ExecuteTime": {
     "end_time": "2023-10-07T22:16:31.432921Z",
     "start_time": "2023-10-07T22:16:30.346546Z"
    }
   },
   "source": [
    "# To summarize analytically, let's use the groupby() method on our df.\n",
    "df_combined_apple_google_play_store.groupby(by='platform')['Rating'].mean()"
   ],
   "execution_count": 313,
   "outputs": [
    {
     "data": {
      "text/plain": "platform\napple     4.049697\ngoogle    4.191757\nName: Rating, dtype: float64"
     },
     "execution_count": 313,
     "metadata": {},
     "output_type": "execute_result"
    }
   ]
  },
  {
   "cell_type": "markdown",
   "metadata": {
    "id": "8f9TqMtKFcvl",
    "colab_type": "text"
   },
   "source": [
    "Interesting! Our means of 4.049697 and 4.191757 don't **seem** all that different! Perhaps we've solved our brief already: there's no significant difference between Google Play app reviews and Apple Store app reviews. We have an ***observed difference*** here: which is simply (4.191757 - 4.049697) = 0.14206. This is just the actual difference that we observed between the mean rating for apps from Google Play, and the mean rating for apps from the Apple Store. Let's look at how we're going to use this observed difference to solve our problem using a statistical test. \n",
    "\n",
    "**Outline of our method:**\n",
    "1. We'll assume that platform (i.e, whether the app was Google or Apple) really doesn’t impact on ratings. \n",
    "\n",
    "\n",
    "2. Given this assumption, we should actually be able to get a difference in mean rating for Apple apps and mean rating for Google apps that's pretty similar to the one we actually got (0.14206) just by: \n",
    "a. shuffling the ratings column, \n",
    "b. keeping the platform column the same,\n",
    "c. calculating the difference between the mean rating for Apple and the mean rating for Google. \n",
    "\n",
    "\n",
    "3. We can make the shuffle more useful by doing it many times, each time calculating the mean rating for Apple apps and the mean rating for Google apps, and the difference between these means. \n",
    "\n",
    "\n",
    "4. We can then take the mean of all these differences, and this will be called our permutation difference. This permutation difference will be great indicator of what the difference would be if our initial assumption were true and platform really doesn’t impact on ratings. \n",
    "\n",
    "\n",
    "5. Now we do a comparison. If the observed difference looks just like the permutation difference, then we stick with the claim that actually, platform doesn’t impact on ratings. If instead, however, the permutation difference differs significantly from the observed difference, we'll conclude: something's going on; the platform does in fact impact on ratings. \n",
    "\n",
    "\n",
    "6. As for what the definition of *significantly* is, we'll get to that. But there’s a brief summary of what we're going to do. Exciting!\n",
    "\n",
    "If you want to look more deeply at the statistics behind this project, check out [this resource](https://www.springboard.com/archeio/download/4ea4d453b0b84014bcef287c50f47f00/)."
   ]
  },
  {
   "cell_type": "markdown",
   "metadata": {
    "id": "d6EhTxArFcvm",
    "colab_type": "text"
   },
   "source": [
    "Let's also get a **visual summary** of the `Rating` column, separated by the different platforms. \n",
    "\n",
    "A good tool to use here is the boxplot!"
   ]
  },
  {
   "cell_type": "code",
   "metadata": {
    "id": "hFKjrlWgFcvm",
    "colab_type": "code",
    "colab": {},
    "ExecuteTime": {
     "end_time": "2023-10-07T22:17:40.399073Z",
     "start_time": "2023-10-07T22:17:39.988928Z"
    }
   },
   "source": [
    "# Call the boxplot() method on our df.\n",
    "sns.boxplot(data=df_combined_apple_google_play_store, x='platform', y='Rating').set_title('Different Rating Distribution')\n",
    "plt.show()"
   ],
   "execution_count": 325,
   "outputs": [
    {
     "data": {
      "text/plain": "<Figure size 640x480 with 1 Axes>",
      "image/png": "[encoded data removed]"
     },
     "metadata": {},
     "output_type": "display_data"
    }
   ]
  },
  {
   "cell_type": "markdown",
   "metadata": {
    "id": "FqTlAjnmFcvo",
    "colab_type": "text"
   },
   "source": [
    "Here we see the same information as in the analytical summary, but with a boxplot. Can you see how the boxplot is working here? If you need to revise your boxplots, check out this this [link](https://www.kaggle.com/ramamet4/app-store-apple-data-set-10k-apps). "
   ]
  },
  {
   "cell_type": "markdown",
   "metadata": {
    "id": "O8L-s1fgFcvp",
    "colab_type": "text"
   },
   "source": [
    "## Stage 3 - Modelling"
   ]
  },
  {
   "cell_type": "markdown",
   "metadata": {
    "id": "5fbRq2MZFcvq",
    "colab_type": "text"
   },
   "source": [
    "### 3a. Hypothesis formulation\n",
    "\n",
    "Our **Null hypothesis** is just:\n",
    "\n",
    "**H<sub>null</sub>**: the observed difference in the mean rating of Apple Store and Google Play apps is due to chance (and thus not due to the platform).\n",
    "\n",
    "The more interesting hypothesis is called the **Alternate hypothesis**:\n",
    "\n",
    "**H<sub>alternative</sub>**: the observed difference in the average ratings of apple and google users is not due to chance (and is actually due to platform)\n",
    "\n",
    "We're also going to pick a **significance level** of 0.05. "
   ]
  },
  {
   "cell_type": "markdown",
   "metadata": {
    "id": "TjBqkabaFcvq",
    "colab_type": "text"
   },
   "source": [
    "### 3b. Getting the distribution of the data\n",
    "Now that the hypotheses and significance level are defined, we can select a statistical test to determine which hypothesis to accept. \n",
    "\n",
    "There are many different statistical tests, all with different assumptions. You'll generate an excellent judgement about when to use which statistical tests over the Data Science Career Track course. But in general, one of the most important things to determine is the **distribution of the data**.   "
   ]
  },
  {
   "cell_type": "code",
   "metadata": {
    "id": "bFwVhkeWFcvr",
    "colab_type": "code",
    "colab": {},
    "ExecuteTime": {
     "end_time": "2023-10-07T22:16:31.478716Z",
     "start_time": "2023-10-07T22:16:30.611606Z"
    }
   },
   "source": [
    "# Create a subset of the column 'Rating' by the different platforms.\n",
    "# Call the subsets 'apple' and 'google' \n",
    "is_df_platform_apple = df_combined_apple_google_play_store['platform'] == 'apple'\n",
    "is_df_platform_google = df_combined_apple_google_play_store['platform'] == 'google'\n",
    "apple_rating, google_rating = df_combined_apple_google_play_store[is_df_platform_apple]['Rating'], df_combined_apple_google_play_store[is_df_platform_google]['Rating'] "
   ],
   "execution_count": 315,
   "outputs": []
  },
  {
   "cell_type": "code",
   "metadata": {
    "id": "oPPFpwPvFcvu",
    "colab_type": "code",
    "colab": {},
    "ExecuteTime": {
     "end_time": "2023-10-07T22:16:31.479026Z",
     "start_time": "2023-10-07T22:16:30.619305Z"
    }
   },
   "source": [
    "# Using the stats.normaltest() method, get an indication of whether the apple data are normally distributed\n",
    "# Save the result in a variable called apple_normal, and print it out\n",
    "apple_normal = stats.normaltest(apple_rating)\n",
    "apple_normal.pvalue"
   ],
   "execution_count": 316,
   "outputs": [
    {
     "data": {
      "text/plain": "0.0"
     },
     "execution_count": 316,
     "metadata": {},
     "output_type": "execute_result"
    }
   ]
  },
  {
   "cell_type": "code",
   "metadata": {
    "id": "rCdh8a8KFcvw",
    "colab_type": "code",
    "colab": {},
    "ExecuteTime": {
     "end_time": "2023-10-07T22:16:31.479308Z",
     "start_time": "2023-10-07T22:16:30.629105Z"
    }
   },
   "source": [
    "# Do the same with the google data. \n",
    "google_normal = stats.normaltest(google_rating)\n",
    "google_normal.pvalue"
   ],
   "execution_count": 317,
   "outputs": [
    {
     "data": {
      "text/plain": "0.0"
     },
     "execution_count": 317,
     "metadata": {},
     "output_type": "execute_result"
    }
   ]
  },
  {
   "cell_type": "markdown",
   "metadata": {
    "id": "9gDqu21yFcv0",
    "colab_type": "text"
   },
   "source": [
    "Since the null hypothesis of the normaltest() is that the data are normally distributed, the lower the p-value in the result of this test, the more likely the data are to be non-normal. \n",
    "\n",
    "Since the p-values is 0 for both tests, regardless of what we pick for the significance level, our conclusion is that the data are not normally distributed. \n",
    "\n",
    "We can actually also check out the distribution of the data visually with a histogram. A normal distribution has the following visual characteristics:\n",
    "    - symmetric\n",
    "    - unimodal (one hump)\n",
    "As well as a roughly identical mean, median and mode. "
   ]
  },
  {
   "cell_type": "code",
   "execution_count": 326,
   "outputs": [
    {
     "data": {
      "text/plain": "<Figure size 1000x400 with 2 Axes>",
      "image/png": "[encoded data removed]"
     },
     "metadata": {},
     "output_type": "display_data"
    }
   ],
   "source": [
    "# Create a figure with two subplots\n",
    "fig, axs = plt.subplots(1, 2, figsize=(10, 4))\n",
    "\n",
    "# Plot histogram for apple_rating\n",
    "axs[0].hist(apple_rating, bins=20, color='skyblue', edgecolor='black')\n",
    "axs[0].set_title('Apple Store Rating')\n",
    "axs[0].set_xlabel('Rating')\n",
    "axs[0].set_ylabel('Frequency')\n",
    "\n",
    "# Plot histogram for google_rating\n",
    "axs[1].hist(google_rating, bins=20, color='lightgreen', edgecolor='black')\n",
    "axs[1].set_title('Google Play Store Rating')\n",
    "axs[1].set_xlabel('Rating')\n",
    "axs[1].set_ylabel('Frequency')\n",
    "\n",
    "# Adjust spacing between subplots\n",
    "plt.tight_layout()\n",
    "\n",
    "# Show the plot\n",
    "plt.show()"
   ],
   "metadata": {
    "collapsed": false,
    "ExecuteTime": {
     "end_time": "2023-10-07T22:18:05.710953Z",
     "start_time": "2023-10-07T22:18:04.076763Z"
    }
   }
  },
  {
   "cell_type": "markdown",
   "metadata": {
    "id": "QhZV89FzFcv5",
    "colab_type": "text"
   },
   "source": [
    "### 3c. Permutation test\n",
    "Since the data aren't normally distributed, we're using a *non-parametric* test here. This is simply a label for statistical tests used when the data aren't normally distributed. These tests are extraordinarily powerful due to how few assumptions we need to make.  \n",
    "\n",
    "Check out more about permutations [here.](http://rasbt.github.io/mlxtend/user_guide/evaluate/permutation_test/)"
   ]
  },
  {
   "cell_type": "code",
   "metadata": {
    "id": "bxNhQgpqFcv6",
    "colab_type": "code",
    "colab": {},
    "ExecuteTime": {
     "end_time": "2023-10-07T22:18:10.163620Z",
     "start_time": "2023-10-07T22:18:10.064785Z"
    }
   },
   "source": [
    "# Create a column called `Permutation1`, and assign to it the result of permuting (shuffling) the Rating column\n",
    "# This assignment will use our numpy object's random.permutation() method\n",
    "df_combined_apple_google_play_store['Permutation1'] = np.random.permutation(df_combined_apple_google_play_store['Rating'])\n",
    "\n",
    "# Call the describe() method on our permutation grouped by 'platform'. \n",
    "df_combined_apple_google_play_store.groupby(by='platform')['Permutation1'].describe()"
   ],
   "execution_count": 327,
   "outputs": [
    {
     "data": {
      "text/plain": "           count      mean       std  min  25%  50%  75%  max\nplatform                                                     \napple     6268.0  4.134732  0.617273  1.0  4.0  4.3  4.5  5.0\ngoogle    9366.0  4.134849  0.610078  1.0  4.0  4.3  4.5  5.0",
      "text/html": "<div>\n<style scoped>\n    .dataframe tbody tr th:only-of-type {\n        vertical-align: middle;\n    }\n\n    .dataframe tbody tr th {\n        vertical-align: top;\n    }\n\n    .dataframe thead th {\n        text-align: right;\n    }\n</style>\n<table border=\"1\" class=\"dataframe\">\n  <thead>\n    <tr style=\"text-align: right;\">\n      <th></th>\n      <th>count</th>\n      <th>mean</th>\n      <th>std</th>\n      <th>min</th>\n      <th>25%</th>\n      <th>50%</th>\n      <th>75%</th>\n      <th>max</th>\n    </tr>\n    <tr>\n      <th>platform</th>\n      <th></th>\n      <th></th>\n      <th></th>\n      <th></th>\n      <th></th>\n      <th></th>\n      <th></th>\n      <th></th>\n    </tr>\n  </thead>\n  <tbody>\n    <tr>\n      <th>apple</th>\n      <td>6268.0</td>\n      <td>4.134732</td>\n      <td>0.617273</td>\n      <td>1.0</td>\n      <td>4.0</td>\n      <td>4.3</td>\n      <td>4.5</td>\n      <td>5.0</td>\n    </tr>\n    <tr>\n      <th>google</th>\n      <td>9366.0</td>\n      <td>4.134849</td>\n      <td>0.610078</td>\n      <td>1.0</td>\n      <td>4.0</td>\n      <td>4.3</td>\n      <td>4.5</td>\n      <td>5.0</td>\n    </tr>\n  </tbody>\n</table>\n</div>"
     },
     "execution_count": 327,
     "metadata": {},
     "output_type": "execute_result"
    }
   ]
  },
  {
   "cell_type": "code",
   "metadata": {
    "id": "AaGNfPGTFcv7",
    "colab_type": "code",
    "colab": {},
    "ExecuteTime": {
     "end_time": "2023-10-07T22:18:12.536801Z",
     "start_time": "2023-10-07T22:18:12.338999Z"
    }
   },
   "source": [
    "# Lets compare with the previous analytical summary:\n",
    "df_combined_apple_google_play_store.groupby(by='platform')['Rating'].describe()"
   ],
   "execution_count": 328,
   "outputs": [
    {
     "data": {
      "text/plain": "           count      mean       std  min  25%  50%  75%  max\nplatform                                                     \napple     6268.0  4.049697  0.726943  1.0  4.0  4.5  4.5  5.0\ngoogle    9366.0  4.191757  0.515219  1.0  4.0  4.3  4.5  5.0",
      "text/html": "<div>\n<style scoped>\n    .dataframe tbody tr th:only-of-type {\n        vertical-align: middle;\n    }\n\n    .dataframe tbody tr th {\n        vertical-align: top;\n    }\n\n    .dataframe thead th {\n        text-align: right;\n    }\n</style>\n<table border=\"1\" class=\"dataframe\">\n  <thead>\n    <tr style=\"text-align: right;\">\n      <th></th>\n      <th>count</th>\n      <th>mean</th>\n      <th>std</th>\n      <th>min</th>\n      <th>25%</th>\n      <th>50%</th>\n      <th>75%</th>\n      <th>max</th>\n    </tr>\n    <tr>\n      <th>platform</th>\n      <th></th>\n      <th></th>\n      <th></th>\n      <th></th>\n      <th></th>\n      <th></th>\n      <th></th>\n      <th></th>\n    </tr>\n  </thead>\n  <tbody>\n    <tr>\n      <th>apple</th>\n      <td>6268.0</td>\n      <td>4.049697</td>\n      <td>0.726943</td>\n      <td>1.0</td>\n      <td>4.0</td>\n      <td>4.5</td>\n      <td>4.5</td>\n      <td>5.0</td>\n    </tr>\n    <tr>\n      <th>google</th>\n      <td>9366.0</td>\n      <td>4.191757</td>\n      <td>0.515219</td>\n      <td>1.0</td>\n      <td>4.0</td>\n      <td>4.3</td>\n      <td>4.5</td>\n      <td>5.0</td>\n    </tr>\n  </tbody>\n</table>\n</div>"
     },
     "execution_count": 328,
     "metadata": {},
     "output_type": "execute_result"
    }
   ]
  },
  {
   "cell_type": "code",
   "metadata": {
    "id": "aJPNpX0JFcv-",
    "colab_type": "code",
    "colab": {},
    "ExecuteTime": {
     "end_time": "2023-10-07T22:16:36.415708Z",
     "start_time": "2023-10-07T22:16:31.489361Z"
    }
   },
   "source": [
    "# The difference in the means for Permutation1 (0.001103) now looks hugely different to our observed difference of 0.14206. \n",
    "# It's sure starting to look like our observed difference is significant, and that the Null is false; platform does impact on ratings\n",
    "# But to be sure, let's create 10,000 permutations, calculate the mean ratings for Google and Apple apps and the difference between these for each one, and then take the average of all of these differences.\n",
    "# Let's create a vector with the differences - that will be the distibution of the Null.\n",
    "\n",
    "# First, make a list called difference.\n",
    "permutation_count = 10000\n",
    "rating_difference = np.empty(permutation_count) #Initialize an empty array\n",
    "\n",
    "# Now make a for loop that does the following 10,000 times:\n",
    "# 1. makes a permutation of the 'Rating' as you did above\n",
    "# 2. calculates the difference in the mean rating for apple and the mean rating for google.\n",
    "df_permutation_sample = df_combined_apple_google_play_store[['platform', 'Rating']].sort_values(by='platform')\n",
    "apple_review_count = len(df_permutation_sample[df_permutation_sample['platform'] == 'apple']) # Used later to split between Apple vs Google ratings\n",
    "for i in range(permutation_count):\n",
    "    rating_permutation_sample = np.random.permutation(df_permutation_sample['Rating'])\n",
    "    # Mean difference between Google - Apple Rating\n",
    "    apple_rating_mean_permutation_sample = np.mean(rating_permutation_sample[:apple_review_count])\n",
    "    google_rating_mean_permutation_sample = np.mean(rating_permutation_sample[apple_review_count:])\n",
    "    rating_difference[i] = google_rating_mean_permutation_sample - apple_rating_mean_permutation_sample"
   ],
   "execution_count": 321,
   "outputs": []
  },
  {
   "cell_type": "code",
   "execution_count": 323,
   "outputs": [
    {
     "name": "stdout",
     "output_type": "stream",
     "text": [
      "0.1420605474512291\n"
     ]
    }
   ],
   "source": [
    "# Now make a variable called obs_difference, and assign it the result of the mean of our 'apple' variable and the mean of our 'google variable'\n",
    "# Make this difference absolute with the built-in abs() function. \n",
    "obs_difference_absolute = abs(np.mean(google_rating) - np.mean(apple_rating))\n",
    "\n",
    "# Print out this value; it should be 0.1420605474512291. \n",
    "print(obs_difference_absolute)"
   ],
   "metadata": {
    "collapsed": false,
    "ExecuteTime": {
     "end_time": "2023-10-07T22:16:36.918970Z",
     "start_time": "2023-10-07T22:16:36.896880Z"
    }
   }
  },
  {
   "cell_type": "code",
   "execution_count": 344,
   "outputs": [
    {
     "data": {
      "text/plain": "<Figure size 640x480 with 1 Axes>",
      "image/png": "[encoded data removed]"
     },
     "metadata": {},
     "output_type": "display_data"
    }
   ],
   "source": [
    "# Make a variable called 'histo', and assign to it the result of plotting a histogram of the difference list.\n",
    "_ = sns.histplot(rating_difference, bins=20)\n",
    "_ = plt.suptitle('Permutation Test - Mean Rating Difference Between Apple vs Google Store', fontsize=16)\n",
    "_ = plt.title(\"Null Hypothesis: There's no mean rating difference | 10K Permutation\", fontsize=12)\n",
    "_ = plt.axvline(obs_difference_absolute, color='red', label=f\"Observed Mean Difference: {round(obs_difference_absolute, 2)}\")\n",
    "_ = plt.xlabel('Mean Rating Difference')\n",
    "_ = plt.legend()"
   ],
   "metadata": {
    "collapsed": false,
    "ExecuteTime": {
     "end_time": "2023-10-07T22:27:18.273167Z",
     "start_time": "2023-10-07T22:27:16.374106Z"
    }
   }
  },
  {
   "cell_type": "markdown",
   "source": [
    "## Stage 4 -  Evaluating and concluding\n",
    "### 4a. What is our conclusion?"
   ],
   "metadata": {
    "collapsed": false
   }
  },
  {
   "cell_type": "code",
   "metadata": {
    "id": "XMQHnqx1FcwF",
    "colab_type": "code",
    "colab": {},
    "ExecuteTime": {
     "end_time": "2023-10-07T22:27:32.686690Z",
     "start_time": "2023-10-07T22:27:32.544322Z"
    }
   },
   "source": [
    "'''\n",
    "What do we know? \n",
    "\n",
    "Recall: The p-value of our observed data is just the proportion of the data given the null that's at least as extreme as that observed data.\n",
    "\n",
    "As a result, we're going to count how many of the differences in our difference list are at least as extreme as our observed difference.\n",
    "\n",
    "If less than or equal to 5% of them are, then we will reject the Null. \n",
    "'''\n",
    "\n",
    "p_value = sum(rating_difference >= obs_difference_absolute) / len(rating_difference)\n",
    "print(p_value)"
   ],
   "execution_count": 345,
   "outputs": [
    {
     "name": "stdout",
     "output_type": "stream",
     "text": [
      "0.0\n"
     ]
    }
   ]
  },
  {
   "cell_type": "markdown",
   "metadata": {
    "id": "4RTofY9wFcwI",
    "colab_type": "text"
   },
   "source": [
    "### 4b. What is our decision?\n",
    "So actually, zero differences are at least as extreme as our observed difference!\n",
    "\n",
    "So the p-value of our observed data is 0. \n",
    "\n",
    "It doesn't matter which significance level we pick; our observed data is statistically significant, and we reject the Null.\n",
    "\n",
    "We conclude that platform does impact on ratings. Specifically, we should advise our client to integrate **only Google Play** into their operating system interface. "
   ]
  },
  {
   "cell_type": "markdown",
   "metadata": {
    "id": "Cu_eh7fTFcwJ",
    "colab_type": "text"
   },
   "source": [
    "### 4c. Other statistical tests, and next steps\n",
    "The test we used here is the Permutation test. This was appropriate because our data were not normally distributed! \n",
    "\n",
    "As we've seen in Professor Spiegelhalter's book, there are actually many different statistical tests, all with different assumptions. How many of these different statistical tests can you remember? How much do you remember about what the appropriate conditions are under which to use them? \n",
    "\n",
    "Make a note of your answers to these questions, and discuss them with your mentor at your next call. \n"
   ]
  },
  {
   "cell_type": "markdown",
   "source": [
    "| Statistical Test | Purpose | Assumptions | Limitations | Use Case Example |\n",
    "| --- | --- | --- | --- | --- |\n",
    "| T-Test | Used to determine if there is a significant difference between the means of two groups. | Data are normally distributed and the variances of the two groups are equal. | Not suitable for data that are not normally distributed or have unequal variances. | Comparing the average heights of men and women. |\n",
    "| Chi-Square Test | Used to determine if there is a significant association between two categorical variables. | Observations are independent. | Not suitable for continuous data or dependent observations. | Determining if there's a relationship between smoking and lung cancer. |\n",
    "| ANOVA (Analysis of Variance) | Used to determine if there is a significant difference between the means of three or more groups. | Data are normally distributed, the variances of the groups are equal, and the observations are independent. | Not suitable for data that are not normally distributed, have unequal variances, or dependent observations. | Comparing the average test scores of students from different schools. |\n",
    "| Mann-Whitney U Test | A non-parametric test used to determine if there is a significant difference between the distributions of two groups. | Does not assume normality. | Less powerful (i.e., less likely to detect a true effect) than parametric tests when their assumptions are met. | Comparing the distribution of house prices in two different neighborhoods. |\n",
    "| Kruskal-Wallis Test | A non-parametric test used to determine if there is a significant difference between the distributions of three or more groups. | Does not assume normality. | Less powerful than parametric tests when their assumptions are met. | Comparing the distribution of customer satisfaction ratings for three different products. |\n",
    "| Pearson's Correlation Coefficient | Used to measure the strength and direction of association between two continuous variables. | Data are normally distributed and the relationship between the variables is linear. | Not suitable for data that are not normally distributed or have a non-linear relationship. | Measuring the relationship between age and income. |\n",
    "| Spearman's Rank Correlation Coefficient | A non-parametric test used to measure the strength and direction of association between two ranked variables. | Does not assume normality or linearity. | Less powerful than Pearson's correlation when its assumptions are met. | Measuring the relationship between the rankings of athletes in two different sports. |\n",
    "| Regression Analysis | Used to predict the value of a dependent variable based on the value of one or more independent variables. | Data are normally distributed, the relationship between the variables is linear, and the errors are independently and identically distributed. | Not suitable for data that are not normally distributed, have a non-linear relationship, or have dependent errors. | Predicting house prices based on the number of bedrooms, location, and age of the house. |\n"
   ],
   "metadata": {
    "collapsed": false
   }
  },
  {
   "cell_type": "code",
   "execution_count": null,
   "outputs": [],
   "source": [],
   "metadata": {
    "collapsed": false
   }
  }
 ]
}
